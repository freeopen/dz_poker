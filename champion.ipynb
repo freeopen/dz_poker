{
 "cells": [
  {
   "cell_type": "code",
   "execution_count": 79,
   "metadata": {},
   "outputs": [],
   "source": [
    "from poker import Range\n",
    "from poker.hand import Combo\n",
    "\n",
    "import holdem_calc\n",
    "import holdem_functions\n",
    "\n",
    "import numpy as np\n",
    "# import pandas as pd\n",
    "# import matplotlib.pyplot as plt\n",
    "from IPython.core.display import display, HTML\n",
    "\n",
    "hero_odds = []\n",
    "hero_range_odds = []"
   ]
  },
  {
   "cell_type": "code",
   "execution_count": 80,
   "metadata": {},
   "outputs": [],
   "source": [
    "# my hand = King of spades and Jack of clubs\n",
    "hero_hand = Combo('KsJc')\n",
    "# print(hero_hand)\n",
    "flop = [\"Qc\", \"Th\", \"9s\"]"
   ]
  },
  {
   "cell_type": "code",
   "execution_count": 86,
   "metadata": {},
   "outputs": [
    {
     "output_type": "stream",
     "name": "stdout",
     "text": [
      "#combo combinations:144\n"
     ]
    },
    {
     "output_type": "display_data",
     "data": {
      "text/plain": "<IPython.core.display.HTML object>",
      "text/html": "<table class=\"range\"><tr><td class=\"pair\">AA</td><td class=\"suited\">AKs</td><td class=\"suited\">AQs</td><td class=\"suited\">AJs</td><td class=\"suited\">ATs</td><td class=\"suited\"></td><td class=\"suited\"></td><td class=\"suited\"></td><td class=\"suited\"></td><td class=\"suited\"></td><td class=\"suited\"></td><td class=\"suited\"></td><td class=\"suited\"></td></tr><tr><td class=\"offsuit\">AKo</td><td class=\"pair\">KK</td><td class=\"suited\">KQs</td><td class=\"suited\">KJs</td><td class=\"suited\"></td><td class=\"suited\"></td><td class=\"suited\"></td><td class=\"suited\"></td><td class=\"suited\"></td><td class=\"suited\"></td><td class=\"suited\"></td><td class=\"suited\"></td><td class=\"suited\"></td></tr><tr><td class=\"offsuit\">AQo</td><td class=\"offsuit\">KQo</td><td class=\"pair\">QQ</td><td class=\"suited\"></td><td class=\"suited\"></td><td class=\"suited\"></td><td class=\"suited\"></td><td class=\"suited\"></td><td class=\"suited\"></td><td class=\"suited\"></td><td class=\"suited\"></td><td class=\"suited\"></td><td class=\"suited\"></td></tr><tr><td class=\"offsuit\">AJo</td><td class=\"offsuit\">KJo</td><td class=\"offsuit\"></td><td class=\"pair\">JJ</td><td class=\"suited\"></td><td class=\"suited\"></td><td class=\"suited\"></td><td class=\"suited\"></td><td class=\"suited\"></td><td class=\"suited\"></td><td class=\"suited\"></td><td class=\"suited\"></td><td class=\"suited\"></td></tr><tr><td class=\"offsuit\">ATo</td><td class=\"offsuit\"></td><td class=\"offsuit\"></td><td class=\"offsuit\"></td><td class=\"pair\">TT</td><td class=\"suited\"></td><td class=\"suited\"></td><td class=\"suited\"></td><td class=\"suited\"></td><td class=\"suited\"></td><td class=\"suited\"></td><td class=\"suited\"></td><td class=\"suited\"></td></tr><tr><td class=\"offsuit\"></td><td class=\"offsuit\"></td><td class=\"offsuit\"></td><td class=\"offsuit\"></td><td class=\"offsuit\"></td><td class=\"pair\">99</td><td class=\"suited\"></td><td class=\"suited\"></td><td class=\"suited\"></td><td class=\"suited\"></td><td class=\"suited\"></td><td class=\"suited\"></td><td class=\"suited\"></td></tr><tr><td class=\"offsuit\"></td><td class=\"offsuit\"></td><td class=\"offsuit\"></td><td class=\"offsuit\"></td><td class=\"offsuit\"></td><td class=\"offsuit\"></td><td class=\"pair\">88</td><td class=\"suited\"></td><td class=\"suited\"></td><td class=\"suited\"></td><td class=\"suited\"></td><td class=\"suited\"></td><td class=\"suited\"></td></tr><tr><td class=\"offsuit\"></td><td class=\"offsuit\"></td><td class=\"offsuit\"></td><td class=\"offsuit\"></td><td class=\"offsuit\"></td><td class=\"offsuit\"></td><td class=\"offsuit\"></td><td class=\"pair\">77</td><td class=\"suited\"></td><td class=\"suited\"></td><td class=\"suited\"></td><td class=\"suited\"></td><td class=\"suited\"></td></tr><tr><td class=\"offsuit\"></td><td class=\"offsuit\"></td><td class=\"offsuit\"></td><td class=\"offsuit\"></td><td class=\"offsuit\"></td><td class=\"offsuit\"></td><td class=\"offsuit\"></td><td class=\"offsuit\"></td><td class=\"pair\"></td><td class=\"suited\"></td><td class=\"suited\"></td><td class=\"suited\"></td><td class=\"suited\"></td></tr><tr><td class=\"offsuit\"></td><td class=\"offsuit\"></td><td class=\"offsuit\"></td><td class=\"offsuit\"></td><td class=\"offsuit\"></td><td class=\"offsuit\"></td><td class=\"offsuit\"></td><td class=\"offsuit\"></td><td class=\"offsuit\"></td><td class=\"pair\"></td><td class=\"suited\"></td><td class=\"suited\"></td><td class=\"suited\"></td></tr><tr><td class=\"offsuit\"></td><td class=\"offsuit\"></td><td class=\"offsuit\"></td><td class=\"offsuit\"></td><td class=\"offsuit\"></td><td class=\"offsuit\"></td><td class=\"offsuit\"></td><td class=\"offsuit\"></td><td class=\"offsuit\"></td><td class=\"offsuit\"></td><td class=\"pair\"></td><td class=\"suited\"></td><td class=\"suited\"></td></tr><tr><td class=\"offsuit\"></td><td class=\"offsuit\"></td><td class=\"offsuit\"></td><td class=\"offsuit\"></td><td class=\"offsuit\"></td><td class=\"offsuit\"></td><td class=\"offsuit\"></td><td class=\"offsuit\"></td><td class=\"offsuit\"></td><td class=\"offsuit\"></td><td class=\"offsuit\"></td><td class=\"pair\"></td><td class=\"suited\"></td></tr><tr><td class=\"offsuit\"></td><td class=\"offsuit\"></td><td class=\"offsuit\"></td><td class=\"offsuit\"></td><td class=\"offsuit\"></td><td class=\"offsuit\"></td><td class=\"offsuit\"></td><td class=\"offsuit\"></td><td class=\"offsuit\"></td><td class=\"offsuit\"></td><td class=\"offsuit\"></td><td class=\"offsuit\"></td><td class=\"pair\"></td></tr></table>"
     },
     "metadata": {}
    }
   ],
   "source": [
    "villan_range = Range('77+, AT+, KJ+')\n",
    "\n",
    "print(\"#combo combinations:\" + str(len(villan_range.combos)))\n",
    "display(HTML(villan_range.to_html()))"
   ]
  },
  {
   "cell_type": "code",
   "execution_count": 82,
   "metadata": {},
   "outputs": [
    {
     "output_type": "stream",
     "name": "stdout",
     "text": [
      "Time elapsed:  36.72330689430237\n"
     ]
    },
    {
     "output_type": "execute_result",
     "data": {
      "text/plain": [
       "{'tie': 0.04138424018164999,\n",
       " 'win': 0.9308440557284221,\n",
       " 'lose': 0.027771704089927955}"
      ]
     },
     "metadata": {},
     "execution_count": 82
    }
   ],
   "source": [
    " \n",
    "board = flop             # the board equals the flop\n",
    "villan_hand = None       # no prior knowledge about the villan\n",
    "exact_calculation = True #  calculates exactly by simulating the set of all possible hands\n",
    "verbose = True           # returns odds of making a certain poker hand, e.g., quads, set, straight\n",
    "num_sims = 1             # ignored by exact_calculation = True\n",
    "read_from_file = None    # we are not reading hands from file\n",
    "\n",
    "odds = holdem_calc.calculate_odds_villan(board, exact_calculation, \n",
    "                            num_sims, read_from_file , \n",
    "                            hero_hand, villan_hand, \n",
    "                            verbose, print_elapsed_time = True)\n",
    "hero_odds.append(odds[0]['win'])\n",
    "odds[0]"
   ]
  },
  {
   "cell_type": "code",
   "execution_count": 83,
   "metadata": {},
   "outputs": [
    {
     "output_type": "stream",
     "name": "stdout",
     "text": [
      "{'tie': 0.11423324150596878, 'win': 0.8030711151923272, 'lose': 0.08269564330170391}\nHigh Card: 0.06978879706152434\nPair: 0.3662891541679421\nTwo Pair: 0.23085399449035818\nThree of a Kind: 0.09733700642791548\nStraight: 0.18498112437506367\nFlush: 0.004060810121416182\nFull House: 0.04205693296602388\nFour of a Kind: 0.004560759106213652\nStraight Flush: 2.0406081012141617e-05\nRoyal Flush: 5.101520253035404e-05\n"
     ]
    }
   ],
   "source": [
    "items = [holdem_calc.calculate_odds_villan(board, exact_calculation, \n",
    "                            num_sims, read_from_file , \n",
    "                            hero_hand, villan_hand, \n",
    "                            verbose, print_elapsed_time = False) for villan_hand in villan_range.combos]\n",
    "\n",
    "odds = {}\n",
    "[odds.update({odd_type: np.mean([res[0][odd_type] for res in items if res])}) for odd_type in [\"tie\", \"win\", \"lose\"]]\n",
    "hero_range_odds.append(odds['win'])\n",
    "print(odds)\n",
    "for hand_ranking in holdem_functions.hand_rankings:\n",
    "    print(hand_ranking +\": \" + str(np.mean([res[1][1][hand_ranking] for res in items if res])))\n"
   ]
  },
  {
   "cell_type": "markdown",
   "metadata": {},
   "source": [
    "# The Turn"
   ]
  },
  {
   "cell_type": "code",
   "execution_count": 73,
   "metadata": {},
   "outputs": [
    {
     "output_type": "stream",
     "name": "stdout",
     "text": [
      "Time elapsed:  1.2533700466156006\n{'tie': 0.0233201581027668, 'win': 0.9677206851119895, 'lose': 0.008959156785243741}\n"
     ]
    }
   ],
   "source": [
    "turn= [\"2d\"]\n",
    "board = flop + turn\n",
    "villan_hand = None\n",
    "\n",
    "odds = holdem_calc.calculate_odds_villan(board, exact_calculation, \n",
    "                            num_sims, read_from_file , \n",
    "                            hero_hand, villan_hand, \n",
    "                            verbose, print_elapsed_time = True)\n",
    "hero_odds.append(odds[0]['win'])\n",
    "\n",
    "print(odds[0])"
   ]
  },
  {
   "cell_type": "code",
   "execution_count": 57,
   "metadata": {},
   "outputs": [
    {
     "output_type": "execute_result",
     "data": {
      "text/plain": [
       "{'tie': 0.10123966942148759,\n",
       " 'win': 0.8615702479338843,\n",
       " 'lose': 0.0371900826446281}"
      ]
     },
     "metadata": {},
     "execution_count": 57
    }
   ],
   "source": [
    "items = [holdem_calc.calculate_odds_villan(board, exact_calculation, \n",
    "                            num_sims, read_from_file , \n",
    "                            hero_hand, villan_hand, \n",
    "                            verbose, print_elapsed_time = False) for villan_hand in villan_range.combos]\n",
    "\n",
    "odds = {}\n",
    "[odds.update({odd_type: np.mean([res[0][odd_type] for res in items if res])}) for odd_type in [\"tie\", \"win\", \"lose\"]]\n",
    "hero_range_odds.append(odds['win'])\n",
    "odds"
   ]
  },
  {
   "cell_type": "markdown",
   "metadata": {},
   "source": [
    "# The River"
   ]
  },
  {
   "cell_type": "code",
   "execution_count": 74,
   "metadata": {},
   "outputs": [
    {
     "output_type": "stream",
     "name": "stdout",
     "text": [
      "Time elapsed:  0.08518290519714355\n{'tie': 0.11818181818181818, 'win': 0.8696969696969697, 'lose': 0.012121212121212121}\n"
     ]
    }
   ],
   "source": [
    "river = [\"Kc\"]\n",
    "board = flop + turn + river \n",
    "verbose = True\n",
    "villan_hand = None\n",
    "\n",
    "odds = holdem_calc.calculate_odds_villan(board, exact_calculation, \n",
    "                            num_sims, read_from_file , \n",
    "                            hero_hand, villan_hand, \n",
    "                            verbose, print_elapsed_time = True)\n",
    "hero_odds.append(odds[0]['win'])\n",
    "print(odds[0])"
   ]
  },
  {
   "cell_type": "code",
   "execution_count": 77,
   "metadata": {},
   "outputs": [
    {
     "output_type": "stream",
     "name": "stdout",
     "text": [
      "{'tie': 0.12, 'win': 0.72, 'lose': 0.16}\nHigh Card: 0.0\nPair: 0.5066666666666667\nTwo Pair: 0.08\nThree of a Kind: 0.13333333333333333\nStraight: 0.28\nFlush: 0.0\nFull House: 0.0\nFour of a Kind: 0.0\nStraight Flush: 0.0\nRoyal Flush: 0.0\n"
     ]
    }
   ],
   "source": [
    "items = [holdem_calc.calculate_odds_villan(board, exact_calculation, \n",
    "                            num_sims, read_from_file , \n",
    "                            hero_hand, villan_hand, \n",
    "                            verbose, print_elapsed_time = False) for villan_hand in villan_range.combos]\n",
    "\n",
    "odds = {}\n",
    "[odds.update({odd_type: np.mean([res[0][odd_type] for res in items if res])}) for odd_type in [\"tie\", \"win\", \"lose\"]]\n",
    "hero_range_odds.append(odds['win'])\n",
    "print(odds)\n",
    "for hand_ranking in holdem_functions.hand_rankings:\n",
    "    print(hand_ranking +\": \" + str(np.mean([res[1][1][hand_ranking] for res in items if res])))"
   ]
  },
  {
   "cell_type": "markdown",
   "metadata": {},
   "source": [
    "# Conclusion"
   ]
  },
  {
   "cell_type": "code",
   "execution_count": 78,
   "metadata": {},
   "outputs": [
    {
     "output_type": "stream",
     "name": "stdout",
     "text": [
      "[0.9677206851119895, 0.8696969696969697]\n[0.8030711151923272, 0.72]\n"
     ]
    }
   ],
   "source": [
    "print(hero_odds)\n",
    "print(hero_range_odds)"
   ]
  }
 ],
 "metadata": {
  "kernelspec": {
   "name": "python367jvsc74a57bd08ec6af1ca9caa1dd362d321806109a24f7f86195274a635f66d1a1ae280d5bd6",
   "display_name": "Python 3.6.7 64-bit ('py3')"
  },
  "language_info": {
   "codemirror_mode": {
    "name": "ipython",
    "version": 3
   },
   "file_extension": ".py",
   "mimetype": "text/x-python",
   "name": "python",
   "nbconvert_exporter": "python",
   "pygments_lexer": "ipython3",
   "version": "3.6.7"
  }
 },
 "nbformat": 4,
 "nbformat_minor": 4
}